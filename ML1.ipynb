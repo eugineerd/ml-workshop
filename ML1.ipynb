{
  "cells": [
    {
      "cell_type": "markdown",
      "source": [
        "Задание1:\n",
        "\n",
        "Реализовать архитектуру подобную ResNet18 для датасета CIFAR10. Под реализацией подразумевается собственная реализация res-блока и архитектуры классификатора. Обязательно построить learning curve для трейна и теста. Топовые модели дают accuracy >95%. Приемлемая accuracy >90%."
      ],
      "metadata": {
        "datalore": {
          "node_id": "wVTkFwoZj3SwAL0GPB7LP6",
          "type": "MD",
          "hide_input_from_viewers": true,
          "hide_output_from_viewers": true
        },
        "id": "PH-IEXapDEMf"
      }
    },
    {
      "cell_type": "code",
      "source": [
        "import numpy as np\n",
        "import torch\n",
        "import torch.nn as nn\n",
        "import torchvision.models as models\n",
        "from torchvision import datasets, transforms\n",
        "from torch.utils.data import DataLoader\n",
        "import matplotlib.pyplot as plt\n",
        "import seaborn as sns"
      ],
      "execution_count": null,
      "outputs": [],
      "metadata": {
        "datalore": {
          "node_id": "h4ZOHNLnfbTxt6oVRWyxbb",
          "type": "CODE",
          "hide_input_from_viewers": true,
          "hide_output_from_viewers": true
        },
        "id": "O1xfFDpMDEM1"
      }
    },
    {
      "cell_type": "code",
      "source": [
        "# hyperparams\n",
        "inp_dim = 32 * 32 * 3\n",
        "hidden = 256\n",
        "out_dim = 10\n",
        "device = torch.device(\"cuda:0\" if torch.cuda.is_available() else \"cpu\")\n",
        "n_epochs = 50\n",
        "batch_size = 100\n",
        "torch.manual_seed(22)\n",
        "\n",
        "# plot settings\n",
        "sns.set_style(\"dark\")"
      ],
      "execution_count": null,
      "outputs": [],
      "metadata": {
        "datalore": {
          "node_id": "tI9WrgFH9lGVVQ6JFV6si6",
          "type": "CODE",
          "hide_input_from_viewers": true,
          "hide_output_from_viewers": true
        },
        "id": "403esLHBDEM1"
      }
    },
    {
      "cell_type": "code",
      "source": [
        "transform_train = transforms.Compose(\n",
        "    [transforms.TrivialAugmentWide(interpolation=transforms.InterpolationMode.BILINEAR),\n",
        "     transforms.ToTensor(),\n",
        "     transforms.RandomHorizontalFlip(),\n",
        "     transforms.RandomAffine(15, scale=(0.9, 1.1)),\n",
        "     transforms.Normalize((0.4914, 0.4822, 0.4465), (0.247, 0.243, 0.261)),\n",
        "     #transforms.RandomAutocontrast(),\n",
        "     #transforms.RandomGrayscale(),\n",
        "     ])\n",
        "\n",
        "transform_test = transforms.Compose(\n",
        "    [transforms.ToTensor(),\n",
        "     transforms.Normalize((0.4914, 0.4822, 0.4465), (0.247, 0.243, 0.261)),\n",
        "     ])\n",
        "\n",
        "\n",
        "dataset_train = datasets.CIFAR10('.', \n",
        "                               train=True,            \n",
        "                               download=True, \n",
        "                               transform=transform_train)\n",
        "trainloader = torch.utils.data.DataLoader(dataset_train, \n",
        "                                          batch_size=batch_size,\n",
        "                                          shuffle=True, \n",
        "                                          num_workers=2, \n",
        "                                          drop_last = True,)\n",
        "\n",
        "dataset_test = datasets.CIFAR10('.', \n",
        "                              train=False,\n",
        "                              download=True, \n",
        "                              transform=transform_test)\n",
        "testloader = torch.utils.data.DataLoader(dataset_test, \n",
        "                                          batch_size=batch_size,\n",
        "                                          shuffle=True, \n",
        "                                          num_workers=2, \n",
        "                                          drop_last = True,)\n"
      ],
      "execution_count": null,
      "outputs": [
        {
          "output_type": "stream",
          "name": "stdout",
          "text": [
            "Files already downloaded and verified\n",
            "Files already downloaded and verified\n"
          ]
        }
      ],
      "metadata": {
        "datalore": {
          "node_id": "iCDy3POTDGhNGXP7U0uzjm",
          "type": "CODE",
          "hide_input_from_viewers": true,
          "hide_output_from_viewers": true
        },
        "colab": {
          "base_uri": "https://localhost:8080/"
        },
        "id": "coNS2LwWDEM2",
        "outputId": "15e0e00d-d70e-4b39-c215-cd23b016f495"
      }
    },
    {
      "cell_type": "code",
      "source": [
        "plt.imshow(dataset_train.data[4001])\n",
        "plt.show()\n",
        "print(dataset_train.classes[dataset_train.targets[4001]])"
      ],
      "execution_count": null,
      "outputs": [
        {
          "output_type": "display_data",
          "data": {
            "text/plain": [
              "<Figure size 432x288 with 1 Axes>"
            ],
            "image/png": "[encoded data removed]"
          },
          "metadata": {}
        },
        {
          "output_type": "stream",
          "name": "stdout",
          "text": [
            "ship\n"
          ]
        }
      ],
      "metadata": {
        "datalore": {
          "node_id": "RFyv2DdLfEAUbMEhdEGYO0",
          "type": "CODE",
          "hide_input_from_viewers": true,
          "hide_output_from_viewers": true
        },
        "colab": {
          "base_uri": "https://localhost:8080/",
          "height": 283
        },
        "id": "IGC5EvVLDEM2",
        "outputId": "5495384d-bf84-4452-ebb8-8200922a79b1"
      }
    },
    {
      "cell_type": "code",
      "source": [
        "import torch.nn as nn\n",
        "import math\n",
        "\n",
        "\n",
        "def conv3x3(in_planes, out_planes, stride=1):\n",
        "    \"\"\"3x3 convolution with padding\"\"\"\n",
        "    return nn.Conv2d(in_planes, out_planes, kernel_size=3, stride=stride,\n",
        "                     padding=1, bias=False)\n",
        "\n",
        "\n",
        "class BasicBlock(nn.Module):\n",
        "    expansion = 1\n",
        "\n",
        "    def __init__(self, inplanes, planes, stride=1, downsample=None):\n",
        "        super(BasicBlock, self).__init__()\n",
        "        self.conv1 = conv3x3(inplanes, planes, stride)\n",
        "        self.bn1 = nn.BatchNorm2d(planes)\n",
        "        self.relu = nn.ReLU(inplace=True)\n",
        "        self.conv2 = conv3x3(planes, planes)\n",
        "        self.bn2 = nn.BatchNorm2d(planes)\n",
        "        self.downsample = downsample\n",
        "        self.stride = stride\n",
        "\n",
        "    def forward(self, x):\n",
        "        residual = x\n",
        "\n",
        "        out = self.conv1(x)\n",
        "        out = self.bn1(out)\n",
        "        out = self.relu(out)\n",
        "\n",
        "        out = self.conv2(out)\n",
        "        out = self.bn2(out)\n",
        "\n",
        "        if self.downsample is not None:\n",
        "            residual = self.downsample(x)\n",
        "\n",
        "        out += residual\n",
        "        out = self.relu(out)\n",
        "\n",
        "        return out\n",
        "\n",
        "\n",
        "class ResNet(nn.Module):\n",
        "\n",
        "    def __init__(self, layers, num_classes=10, input_channels=3):\n",
        "        self.inplanes = 64\n",
        "        super(ResNet, self).__init__()\n",
        "        self.conv1 = nn.Conv2d(input_channels, 64, kernel_size=7, stride=2, padding=3,\n",
        "                               bias=False)\n",
        "        self.bn1 = nn.BatchNorm2d(64)\n",
        "        self.relu = nn.ReLU(inplace=True)\n",
        "        self.maxpool = nn.MaxPool2d(kernel_size=3, stride=2, padding=1)\n",
        "\n",
        "        self.layer1 = self._make_layer(64, layers[0])\n",
        "        self.layer2 = self._make_layer(128, layers[1], stride=2)\n",
        "        self.layer3 = self._make_layer(256, layers[2], stride=2)\n",
        "        self.layer4 = self._make_layer(512, layers[3], stride=2)\n",
        "        self.avgpool = nn.AvgPool2d((1, 1))\n",
        "\n",
        "        self.dropout = nn.Dropout2d(p=0.5,inplace=True)\n",
        "\n",
        "        self.fc = nn.Linear(512, num_classes)\n",
        "\n",
        "        for m in self.modules():\n",
        "            if isinstance(m, nn.Conv2d):\n",
        "                n = m.kernel_size[0] * m.kernel_size[1] * m.out_channels\n",
        "                m.weight.data.normal_(0, math.sqrt(2. / n))\n",
        "            elif isinstance(m, nn.BatchNorm2d):\n",
        "                m.weight.data.fill_(1)\n",
        "                m.bias.data.zero_()\n",
        "\n",
        "    def _make_layer(self, planes, blocks, stride=1):\n",
        "        downsample = None\n",
        "        if stride != 1 or self.inplanes != planes:\n",
        "            downsample = nn.Sequential(\n",
        "                nn.Conv2d(self.inplanes, planes,\n",
        "                          kernel_size=1, stride=stride, bias=False),\n",
        "                nn.BatchNorm2d(planes),\n",
        "            )\n",
        "\n",
        "        layers = []\n",
        "        layers.append(BasicBlock(self.inplanes, planes, stride, downsample))\n",
        "        self.inplanes = planes\n",
        "        for i in range(1, blocks):\n",
        "            layers.append(BasicBlock(self.inplanes, planes))\n",
        "\n",
        "        return nn.Sequential(*layers)\n",
        "\n",
        "    def forward(self, x):\n",
        "\n",
        "        x = self.conv1(x)\n",
        "        x = self.bn1(x)\n",
        "        x = self.relu(x)\n",
        "        x = self.maxpool(x)\n",
        "\n",
        "        x = self.layer1(x)\n",
        "        x = self.layer2(x)\n",
        "        x = self.layer3(x)\n",
        "        x = self.layer4(x)\n",
        "\n",
        "        x = self.avgpool(x)\n",
        "        x = self.dropout(x)\n",
        "        x = x.view(x.size(0), -1)\n",
        "        x = self.fc(x)\n",
        "\n",
        "        return x\n",
        "\n",
        "resnet_18 = lambda: ResNet([2, 2, 2, 2])\n",
        "resnet_34 = lambda: ResNet([3, 4, 6, 3])"
      ],
      "execution_count": null,
      "outputs": [],
      "metadata": {
        "datalore": {
          "node_id": "SiOqWXXznbJCDq9aTPr0ks",
          "type": "CODE",
          "hide_input_from_viewers": true,
          "hide_output_from_viewers": true
        },
        "id": "C0kvfc9qDEM3"
      }
    },
    {
      "cell_type": "code",
      "source": [
        "def accuracy(true, pred):\n",
        "    return torch.sum(true == pred) / pred.size(0)"
      ],
      "metadata": {
        "id": "uCV3J0GBKeVg"
      },
      "execution_count": null,
      "outputs": []
    },
    {
      "cell_type": "code",
      "source": [
        "from IPython import display\n",
        "\n",
        "model = resnet_18().to(device)\n",
        "model.train()\n",
        "#optim = torch.optim.Adam(model.parameters(), lr=0.005, weight_decay=1e-4)\n",
        "loss_func = nn.CrossEntropyLoss()\n",
        "#lr_scheduler = torch.optim.lr_scheduler.ReduceLROnPlateau(optim, patience=3, verbose=True)\n",
        "optim = torch.optim.SGD(model.parameters(), lr=0.1,\n",
        "                      momentum=0.9, weight_decay=5e-4)\n",
        "lr_scheduler = torch.optim.lr_scheduler.CyclicLR(optim, base_lr=0.005, max_lr=0.2)\n",
        "\n",
        "losses = []\n",
        "accs = []\n",
        "best_acc = 0\n",
        "for epoch in range(1, n_epochs+1):\n",
        "    epoch_accs = []\n",
        "    epoch_losses = []\n",
        "    for i, (data, targets) in enumerate(trainloader):\n",
        "        optim.zero_grad()\n",
        "        predict = model(data.to(device))\n",
        "        loss = loss_func(predict, targets.to(device))\n",
        "        loss.backward()\n",
        "        optim.step()\n",
        "\n",
        "        loss = loss.item()\n",
        "        epoch_losses.append(loss)\n",
        "        acc = accuracy(targets, torch.max(predict,1)[1].cpu())\n",
        "        epoch_accs.append(acc.cpu())\n",
        "        if i % 30 == 0:\n",
        "            print(f\"\\rstep: {i} loss: {loss:.3f}, acc: {acc:.3f}\", end=\"\")\n",
        "\n",
        "    epoch_acc = np.mean(epoch_accs)\n",
        "    epoch_loss = np.mean(epoch_losses)\n",
        "    lr_scheduler.step(epoch)\n",
        "\n",
        "    #display\n",
        "    display.clear_output(wait=True)\n",
        "    fig, (ax1, ax2) = plt.subplots(ncols=2, figsize=(26,10))\n",
        "    ax1.set_title(\"Loss\")\n",
        "    ax2.set_title(\"Accuracy\")\n",
        "    accs.append(epoch_acc)\n",
        "    losses.append(epoch_loss)\n",
        "    sns.lineplot(x=range(0, len(losses)), y=losses, ax=ax1, )\n",
        "    sns.lineplot(x=range(0, len(accs)),y=accs, ax=ax2)\n",
        "    print(f'epoch: {epoch}, loss: {epoch_loss:.3f}, accuracy: {epoch_acc:.3f}')\n",
        "    display.display(fig)\n",
        "    plt.close(fig)\n",
        "    #save every epoch\n",
        "    torch.save(model.state_dict(), f'./chkpt_cv1_{epoch}.pth')\n",
        "    if epoch_acc > best_acc:\n",
        "        best_acc = epoch_acc\n",
        "        torch.save(model.state_dict(), f'./best_acc.pth')"
      ],
      "execution_count": null,
      "outputs": [
        {
          "output_type": "stream",
          "name": "stdout",
          "text": [
            "epoch: 50, loss: 0.905, accuracy: 0.685\n"
          ]
        },
        {
          "output_type": "display_data",
          "data": {
            "text/plain": [
              "<Figure size 1872x720 with 2 Axes>"
            ],
            "image/png": "[encoded data removed]"
          },
          "metadata": {}
        }
      ],
      "metadata": {
        "datalore": {
          "node_id": "yK92jxInwzjDJTyA16TeVq",
          "type": "CODE",
          "hide_input_from_viewers": true,
          "hide_output_from_viewers": true
        },
        "colab": {
          "base_uri": "https://localhost:8080/",
          "height": 624
        },
        "id": "b6SqR2U-DEM4",
        "outputId": "7fc8d99a-ad04-4cbb-bed2-ba0ec7a87990"
      }
    },
    {
      "cell_type": "code",
      "source": [
        "model = resnet_18().to(device)\n",
        "model.load_state_dict(torch.load('./best_acc.pth'))\n",
        "model.eval()\n",
        "\n",
        "batches_acc = []\n",
        "for i, (data, targets) in enumerate(testloader):\n",
        "    predict = model(data.to(device))\n",
        "    _, predict = torch.max(predict, 1)\n",
        "    predict = predict.to(\"cpu\")\n",
        "    batches_acc.append(torch.sum(predict == targets) / targets.size(0))\n",
        "np.mean(batches_acc)"
      ],
      "metadata": {
        "id": "_dBoYTszFvye",
        "colab": {
          "base_uri": "https://localhost:8080/"
        },
        "outputId": "fac972ed-161a-4c99-9011-1201b3f94ae1"
      },
      "execution_count": null,
      "outputs": [
        {
          "output_type": "execute_result",
          "data": {
            "text/plain": [
              "0.7982"
            ]
          },
          "metadata": {},
          "execution_count": 148
        }
      ]
    }
  ],
  "metadata": {
    "kernelspec": {
      "display_name": "Python 3",
      "name": "python3"
    },
    "datalore": {
      "version": 1,
      "computation_mode": "JUPYTER",
      "package_manager": "pip",
      "base_environment": "default",
      "packages": []
    },
    "colab": {
      "provenance": []
    },
    "accelerator": "GPU",
    "gpuClass": "standard",
    "language_info": {
      "name": "python"
    }
  },
  "nbformat": 4,
  "nbformat_minor": 0
}